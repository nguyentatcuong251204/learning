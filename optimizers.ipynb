{
  "nbformat": 4,
  "nbformat_minor": 0,
  "metadata": {
    "colab": {
      "provenance": [],
      "gpuType": "T4"
    },
    "kernelspec": {
      "name": "python3",
      "display_name": "Python 3"
    },
    "language_info": {
      "name": "python"
    },
    "accelerator": "GPU"
  },
  "cells": [
    {
      "cell_type": "code",
      "execution_count": null,
      "metadata": {
        "id": "dYdr7afDsaOd",
        "colab": {
          "base_uri": "https://localhost:8080/"
        },
        "outputId": "d9583daf-eb6b-4e9a-d017-97c45a423382"
      },
      "outputs": [
        {
          "output_type": "stream",
          "name": "stdout",
          "text": [
            "GPU Tesla T4 is available.\n"
          ]
        }
      ],
      "source": [
        "import torch\n",
        "from PIL import Image\n",
        "from torch import nn, save, load\n",
        "from torch.optim import Adam,Adadelta,Adagrad,SGD,RMSprop\n",
        "from torch.utils.data import DataLoader\n",
        "from torchvision import datasets\n",
        "from torchvision.transforms import ToTensor\n",
        "import matplotlib.pyplot as plt\n",
        "if torch.cuda.is_available():\n",
        "    device = torch.device(\"cuda\")\n",
        "    print(f\"GPU {torch.cuda.get_device_name(0)} is available.\")\n",
        "else:\n",
        "    device = torch.device(\"cpu\")\n",
        "    print(\"No GPU available, using CPU.\")"
      ]
    },
    {
      "cell_type": "code",
      "source": [
        "train = datasets.CIFAR10(root=\"data\", download=True, train=True, transform=ToTensor())\n",
        "dataset = DataLoader(train, 30)\n"
      ],
      "metadata": {
        "id": "pliqXek3spNL",
        "colab": {
          "base_uri": "https://localhost:8080/"
        },
        "outputId": "3bec9169-d41b-4ed1-a4d8-b6ddc85aed05"
      },
      "execution_count": null,
      "outputs": [
        {
          "output_type": "stream",
          "name": "stdout",
          "text": [
            "Files already downloaded and verified\n"
          ]
        }
      ]
    },
    {
      "cell_type": "code",
      "source": [
        "class ImageClassifier(nn.Module):\n",
        "    def __init__(self):\n",
        "        super().__init__()\n",
        "        self.model = nn.Sequential(\n",
        "            nn.Conv2d(3, 32, (3,3),padding=1),\n",
        "            nn.ReLU(),\n",
        "            nn.Conv2d(32, 64, (3,3),padding=1),\n",
        "            nn.ReLU(),\n",
        "            nn.Conv2d(64, 128, (3,3),padding=1),\n",
        "            nn.ReLU(),\n",
        "            nn.Flatten(),\n",
        "            # nn.Linear(4194304, 100000),\n",
        "            nn.Linear(131072,10)\n",
        "        )\n",
        "\n",
        "    def forward(self, x):\n",
        "        return self.model(x)\n",
        "    def reset_parameters(self):\n",
        "        for layer in self.children():\n",
        "            if hasattr(layer, 'reset_parameters'):\n",
        "                layer.reset_parameters()\n"
      ],
      "metadata": {
        "id": "mSq0TOrVstQT"
      },
      "execution_count": null,
      "outputs": []
    },
    {
      "cell_type": "code",
      "source": [
        "clf = ImageClassifier().to('cuda')\n",
        "# for batch in dataset:\n",
        "#   x,y=batch\n",
        "#   print(clf(x))\n",
        "#   print(y)\n",
        "#   break\n",
        "opt1 = Adam(clf.parameters(), lr=1e-3)\n",
        "# opt2 = Adadelta(clf.parameters(),lr=1e-3)\n",
        "# opt3 = Adagrad(clf.parameters(), lr=1e-3)\n",
        "# opt4 = SGD(clf.parameters(), lr=1e-3)\n",
        "# opt5 = RMSprop(clf.parameters(), lr=1e-3)\n",
        "loss_fn = nn.CrossEntropyLoss()"
      ],
      "metadata": {
        "id": "keswjJz5sxpH"
      },
      "execution_count": null,
      "outputs": []
    },
    {
      "cell_type": "code",
      "source": [],
      "metadata": {
        "id": "IUJs7zu4q9pQ"
      },
      "execution_count": null,
      "outputs": []
    },
    {
      "cell_type": "code",
      "source": [
        "if __name__ == \"__main__\":\n",
        "    epoch_list=[]\n",
        "    loss_list1=[]\n",
        "    loss_list2=[]\n",
        "    loss_list3=[]\n",
        "    loss_list4=[]\n",
        "    loss_list5=[]\n",
        "    #1\n",
        "    for epoch in range(10): # train for 10 epochs\n",
        "\n",
        "        for batch in dataset:\n",
        "            X,y = batch\n",
        "            X, y = X.to('cuda'), y.to('cuda')\n",
        "            yhat = clf(X)\n",
        "            loss = loss_fn(yhat, y)\n",
        "\n",
        "            # Apply backprop\n",
        "            opt1.zero_grad()\n",
        "            loss.backward()\n",
        "            opt1.step()\n",
        "\n",
        "        loss_list1.append(loss.item())\n",
        "        print(loss.item())\n",
        "        epoch_list.append(epoch)\n",
        "    #2\n",
        "    clf = ImageClassifier().to('cuda')\n",
        "    opt2 = Adadelta(clf.parameters(),lr=1e-3)\n",
        "    for epoch in range(10): # train for 10 epochs\n",
        "\n",
        "      for batch in dataset:\n",
        "          X,y = batch\n",
        "          X, y = X.to('cuda'), y.to('cuda')\n",
        "          yhat = clf(X)\n",
        "          loss = loss_fn(yhat, y)\n",
        "\n",
        "          # Apply backprop\n",
        "          opt2.zero_grad()\n",
        "          loss.backward()\n",
        "          opt2.step()\n",
        "\n",
        "      loss_list2.append(loss.item())\n",
        "      print(loss.item())\n",
        "\n",
        "    #3\n",
        "    clf = ImageClassifier().to('cuda')\n",
        "    opt3 = Adagrad(clf.parameters(), lr=1e-3)\n",
        "    for epoch in range(10): # train for 10 epochs\n",
        "\n",
        "      for batch in dataset:\n",
        "          X,y = batch\n",
        "          X, y = X.to('cuda'), y.to('cuda')\n",
        "          yhat = clf(X)\n",
        "          loss = loss_fn(yhat, y)\n",
        "\n",
        "          # Apply backprop\n",
        "          opt3.zero_grad()\n",
        "          loss.backward()\n",
        "          opt3.step()\n",
        "\n",
        "      loss_list3.append(loss.item())\n",
        "\n",
        "    #4\n",
        "    clf = ImageClassifier().to('cuda')\n",
        "    opt4 = SGD(clf.parameters(), lr=1e-3)\n",
        "    for epoch in range(10): # train for 10 epochs\n",
        "\n",
        "        for batch in dataset:\n",
        "            X,y = batch\n",
        "            X, y = X.to('cuda'), y.to('cuda')\n",
        "            yhat = clf(X)\n",
        "            loss = loss_fn(yhat, y)\n",
        "\n",
        "            # Apply backprop\n",
        "            opt4.zero_grad()\n",
        "            loss.backward()\n",
        "            opt4.step()\n",
        "\n",
        "        loss_list4.append(loss.item())\n",
        "\n",
        "    #5\n",
        "    clf = ImageClassifier().to('cuda')\n",
        "    opt5 = RMSprop(clf.parameters(), lr=1e-3)\n",
        "    for epoch in range(10): # train for 10 epochs\n",
        "\n",
        "        for batch in dataset:\n",
        "            X,y = batch\n",
        "            X, y = X.to('cuda'), y.to('cuda')\n",
        "            yhat = clf(X)\n",
        "            loss = loss_fn(yhat, y)\n",
        "\n",
        "            # Apply backprop\n",
        "            opt5.zero_grad()\n",
        "            loss.backward()\n",
        "            opt5.step()\n",
        "\n",
        "        loss_list5.append(loss.item())\n",
        "    plt.plot(epoch_list,loss_list1,c='red')\n",
        "    plt.plot(epoch_list,loss_list2,c='blue')\n",
        "    plt.plot(epoch_list,loss_list3,c='green')\n",
        "    plt.plot(epoch_list,loss_list4,c='black')\n",
        "    plt.plot(epoch_list,loss_list5,c='pink')\n",
        "    plt.xlabel('epoch')\n",
        "    plt.ylabel('loss')\n",
        "    plt.legend(['Adam','Adadelta','Adagrad','SGD','RMSprop'])\n",
        "    plt.show()\n"
      ],
      "metadata": {
        "colab": {
          "base_uri": "https://localhost:8080/",
          "height": 796
        },
        "id": "i37TaEjwSqgN",
        "outputId": "c5e65210-ed17-4654-d0c8-d5a9e5d10fb1"
      },
      "execution_count": null,
      "outputs": [
        {
          "output_type": "stream",
          "name": "stdout",
          "text": [
            "1.6655679941177368\n",
            "1.4742223024368286\n",
            "0.9684885740280151\n",
            "0.4591601490974426\n",
            "0.5393949747085571\n",
            "0.24826152622699738\n",
            "0.2497730702161789\n",
            "0.17593295872211456\n",
            "0.12458869069814682\n",
            "0.011076902970671654\n",
            "2.1971590518951416\n",
            "2.21822452545166\n",
            "2.2389211654663086\n",
            "2.2394816875457764\n",
            "2.2278921604156494\n",
            "2.2081856727600098\n",
            "2.1825695037841797\n",
            "2.153292417526245\n",
            "2.122472047805786\n",
            "2.0921225547790527\n"
          ]
        },
        {
          "output_type": "display_data",
          "data": {
            "text/plain": [
              "<Figure size 640x480 with 1 Axes>"
            ],
            "image/png": "[encoded data removed]"
          },
          "metadata": {}
        }
      ]
    }
  ]
}