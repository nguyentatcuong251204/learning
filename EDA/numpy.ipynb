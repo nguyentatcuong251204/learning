{
 "cells": [
  {
   "cell_type": "markdown",
   "id": "99ec4a62-8c1a-4402-8ab4-5aa80feeef7a",
   "metadata": {},
   "source": [
    "### NUMPY"
   ]
  },
  {
   "cell_type": "code",
   "execution_count": 1,
   "id": "c305ffae-1b6d-4638-8f68-8f71fde0897c",
   "metadata": {},
   "outputs": [],
   "source": [
    "import seaborn as sns\n",
    "import numpy as np\n",
    "import cv2"
   ]
  },
  {
   "cell_type": "markdown",
   "id": "2fdd3dc7-1fb5-407f-89bc-7dd3ca99eb77",
   "metadata": {},
   "source": [
    "<SPAN STYLE='color:blue'>CREATE NUMPY ARRAY"
   ]
  },
  {
   "cell_type": "code",
   "execution_count": null,
   "id": "8a42f951-fd75-4ccc-a16f-09a82de40f3f",
   "metadata": {},
   "outputs": [],
   "source": [
    "lst=[1,2,3,4,5,6]\n",
    "arr=np.array(lst)\n",
    "print(type(arr))\n"
   ]
  },
  {
   "cell_type": "code",
   "execution_count": 5,
   "id": "44e3557c-b2b1-4874-b88d-12a24f138a51",
   "metadata": {},
   "outputs": [
    {
     "name": "stdout",
     "output_type": "stream",
     "text": [
      "1\n"
     ]
    }
   ],
   "source": [
    "\n",
    "# CREATE 0D ARRAY\n",
    "arr0d=np.array(1)\n",
    "print(arr0d)"
   ]
  },
  {
   "cell_type": "code",
   "execution_count": 6,
   "id": "677f405a-8fcc-416d-a764-f8623318c6d0",
   "metadata": {},
   "outputs": [
    {
     "name": "stdout",
     "output_type": "stream",
     "text": [
      "[1 2 3 4 5 6]\n"
     ]
    }
   ],
   "source": [
    "#CREATE 1D ARRAY\n",
    "arr1d=np.array([1,2,3,4,5,6])\n",
    "print(arr1d)"
   ]
  },
  {
   "cell_type": "code",
   "execution_count": 7,
   "id": "b1d4852c-2cce-42aa-8cd1-eba1381dd5d5",
   "metadata": {},
   "outputs": [
    {
     "name": "stdout",
     "output_type": "stream",
     "text": [
      "[[1 3 4]\n",
      " [2 3 1]\n",
      " [4 5 1]]\n"
     ]
    }
   ],
   "source": [
    "#CREATE 2D ARRAY\n",
    "arr2d=np.array([[1,3,4],[2,3,1],[4,5,1]])\n",
    "print(arr2d)"
   ]
  },
  {
   "cell_type": "code",
   "execution_count": 8,
   "id": "133cadff-5094-4512-8bfb-f3dfd09a3dac",
   "metadata": {},
   "outputs": [
    {
     "name": "stdout",
     "output_type": "stream",
     "text": [
      "CPU times: total: 0 ns\n",
      "Wall time: 0 ns\n"
     ]
    },
    {
     "data": {
      "text/plain": [
       "True"
      ]
     },
     "execution_count": 8,
     "metadata": {},
     "output_type": "execute_result"
    }
   ],
   "source": [
    "%%time\n",
    "t=[1,3,4]\n",
    "t_arr=np.array(t)\n",
    "t_arr in arr2d"
   ]
  },
  {
   "cell_type": "code",
   "execution_count": 9,
   "id": "18b9662e-8846-49b4-bab1-b7cf1d54c689",
   "metadata": {},
   "outputs": [
    {
     "name": "stdout",
     "output_type": "stream",
     "text": [
      "[[[1 3 4]\n",
      "  [2 3 1]\n",
      "  [4 5 1]]\n",
      "\n",
      " [[1 3 4]\n",
      "  [2 3 1]\n",
      "  [4 5 1]]]\n"
     ]
    }
   ],
   "source": [
    "arr3d=np.array([[[1,3,4],[2,3,1],[4,5,1]],[[1,3,4],[2,3,1],[4,5,1]]])\n",
    "print(arr3d)"
   ]
  },
  {
   "cell_type": "markdown",
   "id": "31302abe-ce25-4a78-85d3-03da6ae9e654",
   "metadata": {},
   "source": [
    "<span style='color:blue'>CREATE RANDOM ARRAY"
   ]
  },
  {
   "cell_type": "code",
   "execution_count": 10,
   "id": "7a3de606-1409-4a7e-a2b1-21fba179ebbf",
   "metadata": {},
   "outputs": [
    {
     "name": "stdout",
     "output_type": "stream",
     "text": [
      "[[[5 3 0]\n",
      "  [4 1 3]\n",
      "  [2 8 8]]]\n",
      "[0.92173692 0.95209595 0.68886995 0.36868756 0.82444904 0.16305357\n",
      " 0.83750064 0.97159674 0.19624738 0.02757642]\n"
     ]
    }
   ],
   "source": [
    "from numpy import random\n",
    "#CREATE RANDOM INT ARRAY BY RANDOM.RANDINT. PARAMETERS INCLUDE RANGE OF VALUE IN ARRAY AND SHAPE OF ARRAY\n",
    "randint_arr=random.randint(10,size=(1,3,3))\n",
    "print(randint_arr)\n",
    "#CREATE RANDOM FLOAT ARRAY. PARAMETERS IS SHAPE OF ARRAY\n",
    "randfl_arr=random.rand(10)\n",
    "print(randfl_arr)"
   ]
  },
  {
   "cell_type": "markdown",
   "id": "060ff39f-5137-4dec-9d7c-755f0effdea2",
   "metadata": {},
   "source": [
    "<span style='color:blue'>CREATE ZERO/ONE ARRAY"
   ]
  },
  {
   "cell_type": "code",
   "execution_count": 11,
   "id": "677377c7-3370-448c-9e2c-3df39d923504",
   "metadata": {},
   "outputs": [
    {
     "name": "stdout",
     "output_type": "stream",
     "text": [
      "[[0. 0. 0.]\n",
      " [0. 0. 0.]\n",
      " [0. 0. 0.]]\n",
      "[[1. 1. 1.]\n",
      " [1. 1. 1.]\n",
      " [1. 1. 1.]]\n"
     ]
    }
   ],
   "source": [
    "zero_arr=np.zeros((3,3))\n",
    "one_arr=np.ones((3,3))\n",
    "print(zero_arr)\n",
    "print(one_arr)"
   ]
  },
  {
   "cell_type": "markdown",
   "id": "8045462f-0bf6-42c3-8148-c374b8400290",
   "metadata": {},
   "source": [
    "<span style='color:BLUE'>CHECK DIM OF ARRAY"
   ]
  },
  {
   "cell_type": "code",
   "execution_count": 12,
   "id": "ab6663cd-ad27-4a64-b8d1-9afaadb0931c",
   "metadata": {},
   "outputs": [
    {
     "name": "stdout",
     "output_type": "stream",
     "text": [
      "ARRAY 0 HAVE 0 DIM\n",
      "ARRAY 1 HAVE 1 DIM\n",
      "ARRAY 2 HAVE 2 DIM\n",
      "ARRAY 3 HAVE 3 DIM\n"
     ]
    }
   ],
   "source": [
    "print(\"ARRAY 0 HAVE {} DIM\".format(arr0d.ndim))\n",
    "print(\"ARRAY 1 HAVE {} DIM\".format(arr1d.ndim))\n",
    "print(\"ARRAY 2 HAVE {} DIM\".format(arr2d.ndim))\n",
    "print(\"ARRAY 3 HAVE {} DIM\".format(arr3d.ndim))"
   ]
  },
  {
   "cell_type": "markdown",
   "id": "999a40fa-b243-4120-b9f5-6f03a48626e6",
   "metadata": {},
   "source": [
    "<span style='color:blue'>ARRAY INDEX</SPAN>"
   ]
  },
  {
   "cell_type": "code",
   "execution_count": 13,
   "id": "78f98735-ad98-43c9-a8aa-04c105ddde5b",
   "metadata": {},
   "outputs": [
    {
     "name": "stdout",
     "output_type": "stream",
     "text": [
      "6\n",
      "PHAN TU THU 2 CUA MA TRAN 1D LA : 2\n",
      "PHAN TU HANG 1 COT 2 CUA MA TRAN 2D LA : 3\n",
      "PHAN TU HANG HANG 1 COT 2 CUA MA TRAN 2D THU 2 CUA MA TRAN 3D LA : 3\n"
     ]
    }
   ],
   "source": [
    "#ACCESS ELEMENT BY INDEX \n",
    "print(arr1d[-1])\n",
    "print(\"PHAN TU THU 2 CUA MA TRAN 1D LA : {}\".format(arr1d[1]))\n",
    "print(\"PHAN TU HANG 1 COT 2 CUA MA TRAN 2D LA : {}\".format(arr2d[0][1]))\n",
    "print(\"PHAN TU HANG HANG 1 COT 2 CUA MA TRAN 2D THU 2 CUA MA TRAN 3D LA : {}\".format(arr3d[1][0][1]))"
   ]
  },
  {
   "cell_type": "markdown",
   "id": "192d6e4c-f95a-4bc0-a649-dcdd37292397",
   "metadata": {},
   "source": [
    "<span style='color:blue'>INDICING ARRAY"
   ]
  },
  {
   "cell_type": "code",
   "execution_count": 14,
   "id": "2ab85888-da02-4d82-93e5-702893f074ff",
   "metadata": {},
   "outputs": [
    {
     "name": "stdout",
     "output_type": "stream",
     "text": [
      "INDICING 1DARRAY\n",
      "[1 2 3 4]\n",
      "INDICING 2DARRAY\n",
      "[[1 3 4]\n",
      " [2 3 1]]\n",
      "INDICING 3DARRAY\n",
      "[[[1 3 4]\n",
      "  [2 3 1]\n",
      "  [4 5 1]]]\n"
     ]
    }
   ],
   "source": [
    "#ACCESS ELEMENTS FROM 1ST POSITIION TO 4TH POSITION IN 1D ARRAY\n",
    "indice_arr1=arr1d[0:4]\n",
    "print(\"INDICING 1DARRAY\")\n",
    "print(indice_arr1)\n",
    "#ACCESS ELEMENTS FROM 1ST ROW TO 2ND ROW AND FROM 1ST COLUMNS TO 2ND COLUMNS IN 2D ARRAY\n",
    "indice_arr2=arr2d[0:2][0:2]\n",
    "print(\"INDICING 2DARRAY\")\n",
    "print(indice_arr2)\n",
    "indice_arr3=arr3d[0:1]\n",
    "print(\"INDICING 3DARRAY\")\n",
    "print(indice_arr3)\n"
   ]
  },
  {
   "cell_type": "markdown",
   "id": "403d12cb-7e5e-4ab9-b6a8-7ef9dc2b9e26",
   "metadata": {},
   "source": [
    "<span style='color:blue'>RESHAPE MATRIX</span>"
   ]
  },
  {
   "cell_type": "code",
   "execution_count": 15,
   "id": "f06f4e02-c9f9-43e7-9c40-1b786f5f2a29",
   "metadata": {},
   "outputs": [
    {
     "name": "stdout",
     "output_type": "stream",
     "text": [
      "(3, 3)\n",
      "(1, 9)\n"
     ]
    }
   ],
   "source": [
    "print(arr2d.shape)\n",
    "arr2d_res=arr2d.reshape(1,9)\n",
    "print(arr2d_res.shape)"
   ]
  },
  {
   "cell_type": "markdown",
   "id": "0cd0dfa1-c896-4e71-a4b1-78e2e82c06d7",
   "metadata": {},
   "source": [
    "<span style='color:blue'>NUMPY ITERATION"
   ]
  },
  {
   "cell_type": "code",
   "execution_count": 16,
   "id": "04fe45f6-01a6-4435-8327-cf8b9247bb20",
   "metadata": {},
   "outputs": [
    {
     "name": "stdout",
     "output_type": "stream",
     "text": [
      "[[1 3 4]\n",
      " [2 3 1]\n",
      " [4 5 1]]\n",
      "[[1 3 4]\n",
      " [2 3 1]\n",
      " [4 5 1]]\n",
      "1 3 4 2 3 1 4 5 1 1 3 4 2 3 1 4 5 1 "
     ]
    }
   ],
   "source": [
    "for arr in arr3d:\n",
    "    print(arr)\n",
    "for arr2d in arr3d:\n",
    "    for arr1d in arr2d:\n",
    "        for value in arr1d:\n",
    "            print(value,end=' ')"
   ]
  },
  {
   "cell_type": "markdown",
   "id": "36666270-72d6-43d4-88ae-0026534fa18e",
   "metadata": {},
   "source": [
    "<span style='color:blue'>CONCATENATE THE NUMPY ARRAY"
   ]
  },
  {
   "cell_type": "code",
   "execution_count": 17,
   "id": "aea6af9e-49a8-4e86-bccf-e2f56ad1ac04",
   "metadata": {
    "scrolled": true
   },
   "outputs": [
    {
     "name": "stdout",
     "output_type": "stream",
     "text": [
      "ARRAY Is CONCATENATED HORIZONTAL SIZE\n",
      "[[ 1  2  3 19  1 12]\n",
      " [ 0  5  6  5  4  3]]\n",
      "ARRAY Is CONCATENATED VERTICAL SIZE\n",
      "[[ 1  2  3]\n",
      " [ 0  5  6]\n",
      " [19  1 12]\n",
      " [ 5  4  3]]\n",
      "ARRAY Is STACKED HORIZONTAL SIZE\n",
      "[[ 1  2  3 19  1 12]\n",
      " [ 0  5  6  5  4  3]]\n",
      "ARRAY Is STACKED VERTICAL SIZE\n",
      "[[ 1  2  3]\n",
      " [ 0  5  6]\n",
      " [19  1 12]\n",
      " [ 5  4  3]]\n"
     ]
    }
   ],
   "source": [
    "arr1=np.array([[1,2,3],[0,5,6]])\n",
    "arr2=np.array([[19,1,12],[5,4,3]])\n",
    "#CONCATENATE HORIZONTAL\n",
    "concat_horizontal_arr=np.concatenate((arr1,arr2),axis=1)\n",
    "concat_vertical_arr=np.concatenate((arr1,arr2),axis=0)\n",
    "arr1=np.array([[1,2,3],[0,5,6]])\n",
    "arr2=np.array([[19,1,12],[5,4,3]])\n",
    "stack_horizontal_arr=np.hstack((arr1,arr2))\n",
    "stack_vertical_arr=np.vstack((arr1,arr2))\n",
    "print('ARRAY Is CONCATENATED HORIZONTAL SIZE')\n",
    "print(concat_horizontal_arr)\n",
    "print('ARRAY Is CONCATENATED VERTICAL SIZE')\n",
    "print(concat_vertical_arr)\n",
    "print('ARRAY Is STACKED HORIZONTAL SIZE')\n",
    "print(stack_horizontal_arr)\n",
    "print(\"ARRAY Is STACKED VERTICAL SIZE\")\n",
    "print(stack_vertical_arr)"
   ]
  },
  {
   "cell_type": "markdown",
   "id": "7fa9dd03-ad3c-4ddd-a493-a354fc9d5ebd",
   "metadata": {},
   "source": [
    "<span style='color:blue'>SEARCH BY WHERE AND ARGWHERE"
   ]
  },
  {
   "cell_type": "code",
   "execution_count": 18,
   "id": "e7849538-fff6-44ab-95ed-8b827f4b5c47",
   "metadata": {},
   "outputs": [
    {
     "name": "stdout",
     "output_type": "stream",
     "text": [
      "[[19  1 12]\n",
      " [ 5  4  3]]\n",
      "ROWS LIST AND COLLUMNS LIST\n",
      "(array([0, 0, 1, 1], dtype=int64), array([0, 1, 0, 2], dtype=int64))\n",
      "INDEX OF VALUE\n",
      "[[0 0]\n",
      " [0 1]\n",
      " [1 0]\n",
      " [1 2]]\n"
     ]
    }
   ],
   "source": [
    "print(arr2)\n",
    "print('ROWS LIST AND COLLUMNS LIST')\n",
    "print(np.where(arr2 % 2 == 1))\n",
    "print('INDEX OF VALUE')\n",
    "print(np.argwhere(arr2%2==1))"
   ]
  },
  {
   "cell_type": "markdown",
   "id": "8e39a2c3-f034-45ec-8732-f896c28a9096",
   "metadata": {},
   "source": [
    "<span style='color:blue'>EXERCISE 1 : CHECK ARRAY CONTAIN LIST OR NOT"
   ]
  },
  {
   "cell_type": "code",
   "execution_count": 19,
   "id": "38f83111-5a0a-45d3-9798-6927d6170b30",
   "metadata": {},
   "outputs": [
    {
     "name": "stdout",
     "output_type": "stream",
     "text": [
      "[[1 3 4]\n",
      " [2 3 1]\n",
      " [4 5 1]]\n",
      "True\n",
      "False\n",
      "False\n"
     ]
    }
   ],
   "source": [
    "print(arr2d)\n",
    "need_check_list1=[1,3,4]\n",
    "need_check_list2=[1,1,1]\n",
    "need_check_list3=[0,0,0,0]\n",
    "print(need_check_list1 in arr2d.tolist())\n",
    "print(need_check_list2 in arr2d.tolist())\n",
    "print(need_check_list3 in arr2d.tolist())"
   ]
  },
  {
   "cell_type": "markdown",
   "id": "ab6dc9a8-f1b7-4e50-a70e-08262b1ec394",
   "metadata": {},
   "source": [
    "<span style='color:blue'>EXERCISE 2 : REMOVE ROWS WHICH CONTAIN NULL VALUE"
   ]
  },
  {
   "cell_type": "code",
   "execution_count": 20,
   "id": "b8e7206a-710b-46bc-8835-7cb74b10861c",
   "metadata": {},
   "outputs": [
    {
     "name": "stdout",
     "output_type": "stream",
     "text": [
      "[False False  True]\n",
      "[[ 1.  2.  3.]\n",
      " [33.  4.  2.]]\n"
     ]
    }
   ],
   "source": [
    "arr_contain_NaN=np.array([[1,2,3],[33,4,2],[11,14,np.nan]])\n",
    "rows_contain_NaN=np.isnan(arr_contain_NaN).any(axis=1)\n",
    "#CHECK WHICH ROWS HAVE NaN VALUE\n",
    "print(rows_contain_NaN)\n",
    "arr_remove_NaN_row=arr_contain_NaN[~rows_contain_NaN]\n",
    "print(arr_remove_NaN_row)"
   ]
  },
  {
   "cell_type": "markdown",
   "id": "fe3dc752-486d-48e2-8b92-0ca5a78dc159",
   "metadata": {},
   "source": [
    "<span style='color:blue'>EXERCISE 3 : PUT UP/DOWN DIMENSION OF NUMPY ARRAY\n"
   ]
  },
  {
   "cell_type": "code",
   "execution_count": 21,
   "id": "063cc276-8a51-4c2b-8ce8-9b06775be686",
   "metadata": {},
   "outputs": [
    {
     "name": "stdout",
     "output_type": "stream",
     "text": [
      "Input array :  [[[2 2 2]\n",
      "  [2 2 2]]]\n",
      "Shape of input array :  (1, 2, 3)\n",
      "output squeezed array :  [[2 2 2]\n",
      " [2 2 2]]\n",
      "Shape of output array :  (2, 3)\n",
      "------------------------------------------\n",
      "NEW ARRAY :  [1 2 3]\n",
      "SHAPE OF NEW ARRAY :  (3,)\n",
      "UP DIMENSION ARRAY:  [[1 2 3]]\n",
      "SHAPE : 2\n"
     ]
    }
   ],
   "source": [
    "\n",
    "# Python program explaining \n",
    "# numpy.squeeze function \n",
    "  \n",
    "import numpy as np \n",
    "  \n",
    "in_arr = np.array([[[2, 2, 2], [2, 2, 2]]]) \n",
    "   \n",
    "print (\"Input array : \", in_arr)  \n",
    "print(\"Shape of input array : \", in_arr.shape)   \n",
    "  \n",
    "out_arr = np.squeeze(in_arr)  \n",
    "  \n",
    "print (\"output squeezed array : \", out_arr) \n",
    "print(\"Shape of output array : \", out_arr.shape)  \n",
    "print(\"------------------------------------------\")\n",
    "# Create 1D array\n",
    "arr = np.array([1, 2, 3])\n",
    "print('NEW ARRAY : ',arr)\n",
    "print('SHAPE OF NEW ARRAY : ',arr.shape)\n",
    "# Add 1 dimension\n",
    "arr_unsqueezed = np.expand_dims(arr, axis=0)\n",
    "print(\"UP DIMENSION ARRAY: \",arr_unsqueezed)\n",
    "print(\"SHAPE :\",arr_unsqueezed.ndim)"
   ]
  },
  {
   "cell_type": "markdown",
   "id": "ec7a957c-f547-4db6-b72a-08fef2c089bc",
   "metadata": {},
   "source": [
    "<span style='color:blue'>EXERCISE 4 : FINDING THE VALUE WHICH HAVE THE MOST FREQUENT APPEARENCE"
   ]
  },
  {
   "cell_type": "code",
   "execution_count": 22,
   "id": "8cad6f23-fc9d-4146-b544-f80041ad287d",
   "metadata": {},
   "outputs": [
    {
     "name": "stdout",
     "output_type": "stream",
     "text": [
      "FREQUENCE OF EACH VALUE FROM 0 TO MAX VALUE OF LIST\n",
      "[1 5 4 4 1 3 0 0 0 0 0 0 0 0 0 0 0 0 0 0 0 0 0 0 0 0 0 0 0 0 0 0 0 0 0 0 0\n",
      " 0 0 0 0 0 0 0 1]\n",
      "THE VALUE HAVE THE MOST FREQUENT APPEARENCE IS :  1\n"
     ]
    }
   ],
   "source": [
    "arr=np.array([1,1,1,1,1,2,2,2,2,3,3,3,3,4,44,5,5,5,0])\n",
    "print('FREQUENCE OF EACH VALUE FROM 0 TO MAX VALUE OF LIST')\n",
    "print(np.bincount(arr))\n",
    "fre=np.bincount(arr).argmax()\n",
    "print(\"THE VALUE HAVE THE MOST FREQUENT APPEARENCE IS : \",fre)"
   ]
  },
  {
   "cell_type": "markdown",
   "id": "9cb6a576-9d0d-4101-8d58-730228c7bdaf",
   "metadata": {},
   "source": [
    "<span style='color:blue'>EXERCISE 5 : COMPARISION 2 ARRAY"
   ]
  },
  {
   "cell_type": "code",
   "execution_count": 23,
   "id": "f9980321-c1b0-4fc2-b8cf-c5ceeaefa518",
   "metadata": {},
   "outputs": [
    {
     "name": "stdout",
     "output_type": "stream",
     "text": [
      "False\n"
     ]
    }
   ],
   "source": [
    "arr1=np.array([[1,2,3],[4,3,1]])\n",
    "arr2=np.array([[1,5,6],[5,4,3]])\n",
    "comparision=arr1==arr2\n",
    "result=comparision.all()\n",
    "print(result)"
   ]
  },
  {
   "cell_type": "markdown",
   "id": "6d363bfc-87ed-4374-b20d-9a90f519c593",
   "metadata": {},
   "source": [
    "<span style='color:blue'>EXECUTE OPERATION IN MATRIX"
   ]
  },
  {
   "cell_type": "markdown",
   "id": "c62ea6e6-f630-4c1a-9a21-36fec3c851c1",
   "metadata": {},
   "source": [
    "<span style='color:red'>*PLUS 2 MATRIX"
   ]
  },
  {
   "cell_type": "code",
   "execution_count": 24,
   "id": "90a6bc11-e618-46eb-8582-dbf5b79438a4",
   "metadata": {},
   "outputs": [
    {
     "name": "stdout",
     "output_type": "stream",
     "text": [
      "SUM OF 2 ARRAY : \n",
      "[[2 7 9]\n",
      " [6 6 6]]\n"
     ]
    }
   ],
   "source": [
    "arr1=np.array([[1,2,3]])\n",
    "arr2=np.array([[1,5,6],[5,4,3]])\n",
    "sum_arr=arr1+arr2\n",
    "print(\"SUM OF 2 ARRAY : \")\n",
    "print(sum_arr)"
   ]
  },
  {
   "cell_type": "markdown",
   "id": "9d50e61d-6f75-4878-8120-12fb4ebb270a",
   "metadata": {},
   "source": [
    "<span style='color:red'>*MINUS 2 MATRIX"
   ]
  },
  {
   "cell_type": "code",
   "execution_count": 25,
   "id": "c1ba89d3-8e25-455a-8b29-e6a575108192",
   "metadata": {},
   "outputs": [
    {
     "name": "stdout",
     "output_type": "stream",
     "text": [
      "ARRAY1 - ARRAY2  \n",
      "[[ 0 -3 -3]\n",
      " [-1 -1 -2]]\n"
     ]
    }
   ],
   "source": [
    "arr1=np.array([[1,2,3],[4,3,1]])\n",
    "arr2=np.array([[1,5,6],[5,4,3]])\n",
    "arr1_minus_arr2=arr1-arr2\n",
    "print(\"ARRAY1 - ARRAY2  \")\n",
    "print(arr1_minus_arr2)"
   ]
  },
  {
   "cell_type": "markdown",
   "id": "497ec0ed-582c-4268-900d-84df7f128f41",
   "metadata": {},
   "source": [
    "<span style='color:red'>*MULTIPLE 2 MATRIX"
   ]
  },
  {
   "cell_type": "code",
   "execution_count": 26,
   "id": "b78d72ee-c4e5-4da3-ad62-8d55e7885b25",
   "metadata": {},
   "outputs": [
    {
     "name": "stdout",
     "output_type": "stream",
     "text": [
      "MULTIPLE MATRIX \n",
      "[[ 1 10 18]\n",
      " [20 12  3]]\n"
     ]
    }
   ],
   "source": [
    "arr1=np.array([[1,2,3],[4,3,1]])\n",
    "arr2=np.array([[1,5,6],[5,4,3]])\n",
    "mul_arr=arr1*arr2\n",
    "print(\"MULTIPLE MATRIX \")\n",
    "print(mul_arr)"
   ]
  },
  {
   "cell_type": "markdown",
   "id": "5ea052d9-105e-47dc-a0c1-d05c24e6b0bf",
   "metadata": {},
   "source": [
    "<span style='color:red'>*DOT PRODUCT"
   ]
  },
  {
   "cell_type": "code",
   "execution_count": 27,
   "id": "9c23687c-f719-4817-a1fe-a1253d6a48ff",
   "metadata": {},
   "outputs": [
    {
     "name": "stdout",
     "output_type": "stream",
     "text": [
      "DOT PRODUCT \n",
      "[[29 22]\n",
      " [25 35]]\n"
     ]
    }
   ],
   "source": [
    "arr1=np.array([[1,2,3],[4,3,1]])\n",
    "arr2=(np.array([[1,5,6],[5,4,3]])).T #.T is operation which return transpose matrix\n",
    "print(\"DOT PRODUCT \")\n",
    "print(arr1@arr2)"
   ]
  },
  {
   "cell_type": "markdown",
   "id": "ad6c7985-6a63-439e-b4c6-fca3d18446ec",
   "metadata": {},
   "source": [
    "<span style='color:blue'>EXERCISE 6 : CALCULATE DERIVATIVE"
   ]
  },
  {
   "cell_type": "code",
   "execution_count": 28,
   "id": "dba5278f-0cf5-4a9b-a2ae-1fc063468bdd",
   "metadata": {},
   "outputs": [
    {
     "name": "stdout",
     "output_type": "stream",
     "text": [
      "[[0.19661193 0.10499359 0.04517666]\n",
      " [0.01766271 0.04517666 0.19661193]]\n"
     ]
    }
   ],
   "source": [
    "def sigmoid(x):\n",
    "    return 1/(1+np.exp(-x))\n",
    "def sigmoid_derivate(x):\n",
    "    return sigmoid(x)*(1-sigmoid(x))\n",
    "arr1=np.array([[1,2,3],[4,3,1]])\n",
    "derivate_lst=[x for x in sigmoid_derivate(arr1.flatten())]\n",
    "derivate_arr=np.array(derivate_lst).squeeze().reshape(arr1.shape)\n",
    "print(derivate_arr)"
   ]
  },
  {
   "cell_type": "code",
   "execution_count": 38,
   "id": "0c1ef386-bb6f-4e72-a324-262fc1ff4d8b",
   "metadata": {},
   "outputs": [
    {
     "data": {
      "text/plain": [
       "<Axes: >"
      ]
     },
     "execution_count": 38,
     "metadata": {},
     "output_type": "execute_result"
    },
    {
     "data": {
      "image/png": "[encoded data removed]",
      "text/plain": [
       "<Figure size 640x480 with 1 Axes>"
      ]
     },
     "metadata": {},
     "output_type": "display_data"
    }
   ],
   "source": [
    "import time\n",
    "times=[]\n",
    "during_list=[]\n",
    "count=1\n",
    "for i in range(1000):\n",
    "    start=time.time()\n",
    "    t=np.array([[x for x in range(0,10000)]])\n",
    "    arr2d=np.random.randint(0,100,(100,10000))\n",
    "    t in arr2d\n",
    "    end=time.time()\n",
    "    during_time=end-start\n",
    "    times.append(count)\n",
    "    during_list.append(during_time)\n",
    "    count+=1\n",
    "\n",
    "sns.barplot(x=times,y=during_list)"
   ]
  },
  {
   "cell_type": "code",
   "execution_count": 39,
   "id": "0fd5c2e7-994f-428b-b61b-951c9b9fb75b",
   "metadata": {},
   "outputs": [
    {
     "data": {
      "text/plain": [
       "<Axes: >"
      ]
     },
     "execution_count": 39,
     "metadata": {},
     "output_type": "execute_result"
    },
    {
     "data": {
      "image/png": "[encoded data removed]",
      "text/plain": [
       "<Figure size 640x480 with 1 Axes>"
      ]
     },
     "metadata": {},
     "output_type": "display_data"
    }
   ],
   "source": [
    "times=[]\n",
    "during_list=[]\n",
    "count=1\n",
    "for i in range(1000):\n",
    "    start=time.time()\n",
    "    t_list=[x for x in range(0,10000)]\n",
    "    arr2d=np.random.randint(0,100,(100,10000))\n",
    "    t_list in arr2d.tolist()\n",
    "    end=time.time()\n",
    "    during_time=end-start\n",
    "    times.append(count)\n",
    "    during_list.append(during_time)\n",
    "    count+=1\n",
    "\n",
    "sns.barplot(x=times,y=during_list)\n"
   ]
  },
  {
   "cell_type": "code",
   "execution_count": 3,
   "id": "54ad18d9-2328-4dbb-9038-2146a7bf9f7b",
   "metadata": {},
   "outputs": [
    {
     "name": "stdout",
     "output_type": "stream",
     "text": [
      "[[  2   1  -1   8]\n",
      " [ -3  -1   2 -11]\n",
      " [ -2   1   2  -3]]\n",
      "[[ 1  0  0  4]\n",
      " [ 0 -1  2  1]\n",
      " [ 0  1  2  5]]\n",
      "----------------------------------------------------------\n",
      "[[ 1  0  0  4]\n",
      " [ 0 -1  2  1]\n",
      " [ 0  1  2  5]]\n",
      "[[ 1  0  0  4]\n",
      " [ 0  1 -2 -1]\n",
      " [ 0  0  4  6]]\n",
      "----------------------------------------------------------\n",
      "[[ 1  0  0  4]\n",
      " [ 0  1 -2 -1]\n",
      " [ 0  0  4  6]]\n",
      "[[1 0 0 4]\n",
      " [0 1 0 1]\n",
      " [0 0 1 1]]\n",
      "----------------------------------------------------------\n",
      "Nghiệm của hệ phương trình là: [4 1 1]\n"
     ]
    }
   ],
   "source": [
    "import numpy as np\n",
    "\n",
    "def gauss_jordan_elimination(A, b):\n",
    "    \"\"\"Giải hệ phương trình tuyến tính bằng phương pháp Gauss-Jordan.\n",
    "    \n",
    "    Tham số:\n",
    "    A: Ma trận hệ số kích thước (m, n)\n",
    "    b: Vector vế phải kích thước (m,)\n",
    "    \n",
    "    Trả về:\n",
    "    x: Nghiệm của hệ phương trình (vector kích thước n)\n",
    "    \"\"\"\n",
    "    # Kết hợp ma trận A và vector b thành ma trận mở rộng (A|b)\n",
    "    augmented_matrix = np.hstack((A, b.reshape(-1, 1)))\n",
    "\n",
    "    # Số hàng và số cột của ma trận mở rộng\n",
    "    num_rows, num_cols = augmented_matrix.shape\n",
    "\n",
    "    # Áp dụng phương pháp Gauss-Jordan\n",
    "    for i in range(num_rows):\n",
    "        print(augmented_matrix)\n",
    "        # Chọn pivot là phần tử trên đường chéo chính của hàng i\n",
    "        pivot = augmented_matrix[i, i]\n",
    "\n",
    "        # Đảm bảo pivot không bằng 0 để tránh chia cho 0\n",
    "        if pivot == 0:\n",
    "            raise ValueError(\"Ma trận suy biến. Không thể giải hệ phương trình.\")\n",
    "\n",
    "        # Chuẩn hóa hàng i để đưa pivot về thành 1\n",
    "        augmented_matrix[i] = augmented_matrix[i] / pivot\n",
    "\n",
    "        # Loại bỏ các phần tử khác 0 trong cột pivot\n",
    "        for j in range(num_rows):\n",
    "            if i != j:\n",
    "                factor = augmented_matrix[j, i]\n",
    "                augmented_matrix[j] -= factor * augmented_matrix[i]\n",
    "        print(augmented_matrix)\n",
    "        print(\"----------------------------------------------------------\")\n",
    "    # Trích xuất vector nghiệm từ ma trận mở rộng đã đưa về dạng bậc thang\n",
    "    solution = augmented_matrix[:, -1]\n",
    "\n",
    "    return solution\n",
    "\n",
    "# Ví dụ minh họa\n",
    "A = np.array([[2, 1, -1],\n",
    "              [-3, -1, 2],\n",
    "              [-2, 1, 2]])\n",
    "\n",
    "b = np.array([8, -11, -3])\n",
    "\n",
    "# Giải hệ phương trình Ax = b bằng phương pháp Gauss-Jordan\n",
    "solution = gauss_jordan_elimination(A, b)\n",
    "\n",
    "print(\"Nghiệm của hệ phương trình là:\", solution)\n"
   ]
  },
  {
   "cell_type": "code",
   "execution_count": 7,
   "id": "6e6ab5a3-570a-48cd-b7ce-6312510f38e0",
   "metadata": {},
   "outputs": [
    {
     "data": {
      "text/plain": [
       "[[(0, 2), (4, 5)], [(3, 2), (7, 8)], [(5, 7)]]"
      ]
     },
     "execution_count": 7,
     "metadata": {},
     "output_type": "execute_result"
    }
   ],
   "source": [
    "deck=[(0,2),(3,2),(5,7),(4,5),(7,8)]\n",
    "s=[deck[i::3] for i in range(3)]\n",
    "s"
   ]
  }
 ],
 "metadata": {
  "kernelspec": {
   "display_name": "Python 3 (ipykernel)",
   "language": "python",
   "name": "python3"
  },
  "language_info": {
   "codemirror_mode": {
    "name": "ipython",
    "version": 3
   },
   "file_extension": ".py",
   "mimetype": "text/x-python",
   "name": "python",
   "nbconvert_exporter": "python",
   "pygments_lexer": "ipython3",
   "version": "3.9.18"
  }
 },
 "nbformat": 4,
 "nbformat_minor": 5
}
