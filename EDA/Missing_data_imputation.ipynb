{
 "cells": [
  {
   "cell_type": "code",
   "execution_count": 2,
   "id": "20c99965-4b8d-47a1-a181-2dd1549e2d48",
   "metadata": {},
   "outputs": [],
   "source": [
    "import pandas as pd\n",
    "import numpy as np"
   ]
  },
  {
   "cell_type": "code",
   "execution_count": 3,
   "id": "02878580-78d4-4d62-9284-2ef3310be173",
   "metadata": {},
   "outputs": [
    {
     "name": "stdout",
     "output_type": "stream",
     "text": [
      "DataFrame sau khi xử lý giá trị thiếu:\n",
      "     A     B      C\n",
      "0  1.0  20.0   5.00\n",
      "1  2.0  10.0  10.00\n",
      "2  3.0  20.0  15.00\n",
      "3  4.0  30.0  13.75\n",
      "4  5.0  20.0  25.00\n"
     ]
    }
   ],
   "source": [
    "import pandas as pd\n",
    "from sklearn.impute import SimpleImputer\n",
    "\n",
    "# DataFrame ví dụ chứa các giá trị thiếu\n",
    "data = {\n",
    "    'A': [1, 2, None, 4, 5],\n",
    "    'B': [None, 10, 20, 30, None],\n",
    "    'C': [5, 10, 15, None, 25]\n",
    "}\n",
    "\n",
    "df = pd.DataFrame(data)\n",
    "\n",
    "# Tạo đối tượng SimpleImputer với một chiến lược (strategy) nhất định\n",
    "imputer = SimpleImputer(strategy='mean')  # Sử dụng giá trị trung bình của từng cột để điền vào giá trị thiếu\n",
    "\n",
    "# Huấn luyện SimpleImputer trên dữ liệu\n",
    "imputer.fit(df)\n",
    "\n",
    "# Thực hiện xử lý trên dữ liệu với SimpleImputer đã huấn luyện\n",
    "df_imputed = pd.DataFrame(imputer.transform(df), columns=df.columns)\n",
    "\n",
    "# Hiển thị DataFrame sau khi đã xử lý giá trị thiếu\n",
    "print(\"DataFrame sau khi xử lý giá trị thiếu:\")\n",
    "print(df_imputed)\n"
   ]
  },
  {
   "cell_type": "code",
   "execution_count": 7,
   "id": "c7427d5e-1508-47fc-9cbf-af9dc8831a4f",
   "metadata": {},
   "outputs": [
    {
     "name": "stdout",
     "output_type": "stream",
     "text": [
      "DataFrame sau khi xử lý giá trị thiếu:\n",
      "          A          B          C\n",
      "0  1.000000  -1.728015   5.000000\n",
      "1  2.000000  10.000000  10.000000\n",
      "2  3.297952  20.000000  15.000000\n",
      "3  4.000000  30.000000  19.014122\n",
      "4  5.000000  45.184044  25.000000\n"
     ]
    }
   ],
   "source": [
    "import pandas as pd\n",
    "from sklearn.experimental import enable_iterative_imputer  # Enable IterativeImputer\n",
    "from sklearn.impute import IterativeImputer\n",
    "from sklearn.linear_model import LinearRegression  # Mô hình hồi quy\n",
    "\n",
    "# DataFrame ví dụ chứa các giá trị thiếu\n",
    "data = {\n",
    "    'A': [1, 2, None, 4, 5],\n",
    "    'B': [None, 10, 20, 30, None],\n",
    "    'C': [5, 10, 15, None, 25]\n",
    "}\n",
    "\n",
    "df = pd.DataFrame(data)\n",
    "\n",
    "# Tạo đối tượng IterativeImputer với một mô hình hồi quy (BayesianRidge được sử dụng ở đây)\n",
    "imputer = IterativeImputer(estimator=LinearRegression(), max_iter=100, random_state=0)\n",
    "\n",
    "# Huấn luyện IterativeImputer trên dữ liệu\n",
    "imputer.fit(df)\n",
    "\n",
    "# Thực hiện xử lý trên dữ liệu với IterativeImputer đã huấn luyện\n",
    "df_imputed = pd.DataFrame(imputer.transform(df), columns=df.columns)\n",
    "\n",
    "# Hiển thị DataFrame sau khi đã xử lý giá trị thiếu\n",
    "print(\"DataFrame sau khi xử lý giá trị thiếu:\")\n",
    "print(df_imputed)\n"
   ]
  },
  {
   "cell_type": "code",
   "execution_count": 8,
   "id": "27bffcb8-6f06-43e6-a910-5c597e901213",
   "metadata": {},
   "outputs": [
    {
     "data": {
      "text/plain": [
       "array([[1. , 2. , 4. ],\n",
       "       [3. , 4. , 3. ],\n",
       "       [5.5, 6. , 5. ],\n",
       "       [8. , 8. , 7. ]])"
      ]
     },
     "execution_count": 8,
     "metadata": {},
     "output_type": "execute_result"
    }
   ],
   "source": [
    "import numpy as np\n",
    "from sklearn.impute import KNNImputer\n",
    "nan = np.nan\n",
    "X = [[1, 2, nan], [3, 4, 3], [nan, 6, 5], [8, 8, 7]]\n",
    "imputer = KNNImputer(n_neighbors=2, weights=\"uniform\")\n",
    "imputer.fit_transform(X)"
   ]
  },
  {
   "cell_type": "code",
   "execution_count": null,
   "id": "10f95064-fb98-4eb1-8e96-69d88402f9a9",
   "metadata": {},
   "outputs": [],
   "source": []
  }
 ],
 "metadata": {
  "kernelspec": {
   "display_name": "Python 3 (ipykernel)",
   "language": "python",
   "name": "python3"
  },
  "language_info": {
   "codemirror_mode": {
    "name": "ipython",
    "version": 3
   },
   "file_extension": ".py",
   "mimetype": "text/x-python",
   "name": "python",
   "nbconvert_exporter": "python",
   "pygments_lexer": "ipython3",
   "version": "3.9.18"
  }
 },
 "nbformat": 4,
 "nbformat_minor": 5
}
